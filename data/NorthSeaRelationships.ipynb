{
  "cells": [
    {
      "cell_type": "code",
      "execution_count": null,
      "id": "091d2fff-5517-467c-8eee-2a2c51f758f9",
      "metadata": {
        "id": "091d2fff-5517-467c-8eee-2a2c51f758f9"
      },
      "outputs": [],
      "source": [
        "import networkx as nx\n",
        "import matplotlib.pyplot as plt\n",
        "from IPython.display import clear_output\n",
        "import ipywidgets as widgets\n",
        "import time"
      ]
    },
    {
      "cell_type": "code",
      "execution_count": null,
      "id": "e1ded3a3-f2ef-4de7-b813-27df6718f1cc",
      "metadata": {
        "id": "e1ded3a3-f2ef-4de7-b813-27df6718f1cc"
      },
      "outputs": [],
      "source": [
        "data = [['BT-CHLA', '0.1', '0.4', '0.1', '0', '0', '0.1', '0.2', '0.2', '0.4', '0', '0.3', '0.5', '0.1', '0.6', '0.5', '0.3', '0.5', '0.6', '0', '0.3\\n'], ['Chla-PEA', '0.6', '0.1', '0.3', '0.1', '0.6', '0.2', '0.1', '0.1', '0.1', '0', '0.4', '0.1', '0.1', '0.1', '0.4', '0.6', '0.6', '0.2', '0.2', '0\\n'], ['BT-Larvae', '0.5', '1', '0.6', '0.9', '0.3', '0', '0', '0.2', '0.7', '0.6', '0.2', '0', '0.3', '0', '0.1', '0.1', '0.1', '0', '0.2', '0\\n'], ['Catch_pel-LARVAE', '0.4', '0', '0', '0.2', '0.4', '0.5', '0.3', '0', '0.5', '0.2', '0.2', '0.1', '0.1', '0.9', '1', '0.3', '0.3', '0.3', '0.4', '0.5\\n'], ['A2-SPEED', '0.6', '0.3', '0.3', '0', '0.1', '0.2', '0.1', '0', '0.2', '0.1', '0.3', '0.1', '0.8', '0.6', '0.4', '0.4', '0.3', '0.5', '0.4', '0.4\\n'], ['A2-Chla', '0.1', '0.4', '0.2', '0.8', '0.5', '0.4', '0.6', '0.3', '0.9', '0.4', '0.1', '0.5', '0.1', '0.6', '0.3', '0.3', '0.2', '0.6', '0.2', '0.5\\n'], ['A2-NetPP', '0.2', '0.5', '0.1', '0', '0.1', '0.2', '0', '0.4', '0', '0', '0.2', '0.2', '0.2', '0.3', '0.4', '0.3', '0.4', '0.5', '0.6', '0.3\\n'], ['A4-PEA', '0.2', '0.5', '0.6', '0', '0.3', '0.2', '0.1', '0', '0.6', '0', '0.4', '0', '0.3', '0.5', '0', '0.3', '0.6', '0.4', '0.7', '0.6\\n'], ['A4-Chla', '0.1', '0.2', '0.2', '0.1', '0', '0.3', '0.1', '0.2', '0.2', '0.3', '0.3', '0.3', '0.3', '0.8', '0.5', '0.7', '0.4', '0.5', '0.6', '0.4\\n'], ['A4-LARVAE', '0.1', '0.1', '0.4', '0.4', '0.1', '0.2', '0.3', '0.7', '0.6', '0.4', '0.3', '0.4', '0.4', '0.1', '0', '0.4', '0.5', '0.4', '0.3', '0.1\\n'], ['A5-SPEED', '0.4', '0.5', '0.4', '0.4', '0.1', '0.3', '0.2', '0.1', '0.1', '0', '0.5', '0.3', '0.3', '0.5', '0.4', '0', '0.1', '0.2', '0.2', '0\\n'], ['A5-LARVAE', '0.4', '0.4', '0.4', '0.5', '0.5', '0.5', '0.3', '0.1', '0.7', '0.3', '0.1', '0.5', '0.3', '0', '0.1', '0.4', '0.2', '0.6', '0.2', '0.3\\n'], ['A6-SST', '0.6', '0.4', '0.2', '0.4', '0.4', '0.1', '0.5', '0.3', '0.2', '0', '0', '0.1', '0.1', '0.1', '0.2', '0.1', '0.1', '0.3', '0.5', '0.4\\n'], ['A6-W', '0.2', '0', '0.3', '0', '0.3', '0.6', '0.2', '0.3', '0.1', '0.1', '0.1', '0.1', '0.3', '0.4', '0.5', '0.3', '0.5', '0.7', '0.7', '0.5\\n'], ['A6-NetPP', '0.6', '0.4', '0.5', '0.6', '0.1', '0', '0.4', '0', '0.1', '0', '0.1', '0.5', '0.6', '0.8', '0.3', '0.3', '0.3', '0', '0', '0\\n'], ['PELAGICS-W', '0', '0.3', '0.1', '0.7', '0.4', '0.4', '0.3', '0.5', '0.2', '0.3', '0.2', '0.4', '0.4', '0.3', '0.2', '0.1', '0.1', '0.5', '0.3', '0.4\\n'], ['Chla-PELAGICS', '0.1', '0.1', '0.3', '0.2', '0.3', '0.3', '0.3', '0.4', '0.7', '0.9', '0.8', '0.5', '0', '0', '0', '0.2', '0.2', '0.3', '0.2', '0.2\\n'], ['Larvae-PELAGICS', '0.2', '0.1', '0', '0.1', '0.2', '0.3', '0.1', '0.6', '0', '0.4', '0.4', '0.2', '0.9', '0.3', '0.6', '0.6', '0.4', '0.1', '0.2', '0\\n'], ['Chla-DEMERSAL', '0.2', '0.1', '0.5', '0.8', '0.3', '0.6', '0.6', '0.4', '0.4', '0.3', '0.2', '0.2', '0.3', '0.3', '0.4', '0.3', '0.1', '0', '0.1', '0.1\\n'], ['DEMERSAL-NetPP', '0.5', '0.4', '0.4', '0.2', '0.3', '0.2', '0.6', '0.3', '0', '0.3', '0.2', '0.4', '0.4', '0.4', '0.1', '0.3', '0.3', '0', '0', '0\\n'], ['A6-DEMERSAL', '0.7', '0.6', '0.6', '0.5', '0.6', '0.5', '0.4', '0.1', '0.3', '0.2', '0.5', '0.2', '0.5', '0.4', '0.3', '0.2', '0.4', '0.1', '0.1', '0.4\\n'], ['KITT-SST', '0.2', '0.1', '0.2', '0.5', '0.6', '0.3', '0.6', '0.7', '0.4', '0.2', '0.3', '0.1', '0', '0', '0', '0.2', '0', '0', '0.1', '0.6\\n'], ['KITT-LARVAE', '0.3', '0.7', '0.6', '0.2', '0.2', '0.3', '0.1', '0.2', '0', '0.1', '0.4', '0.1', '0.4', '0.8', '0.2', '0.9', '0.8', '0.9', '0.4', '0\\n'], ['KITT-SPEED', '0.3', '0.6', '0.5', '0.8', '0.4', '0.4', '0.3', '0.6', '0.6', '0.4', '0.2', '0.4', '0.7', '0.1', '0.4', '0.1', '0', '0.1', '0.1', '0\\n'], ['BT-GUILLEMOT', '0.2', '0.2', '0.1', '0.1', '0.3', '0.5', '0.5', '0.1', '0', '0', '0', '0.3', '0.6', '0.3', '0.2', '0.6', '0.4', '0.2', '0.1', '0.5\\n'], ['DEMERSAL-GUILLEMOT', '0.5', '0', '0.4', '0.4', '0.3', '0.3', '0.1', '0.2', '0.5', '0.7', '0.6', '0.5', '0.7', '0.2', '0.5', '0.2', '0.3', '0.1', '0.5', '0.4\\n'], ['GUILL-NetPP', '0.3', '0.2', '0.4', '0.8', '0.4', '0.4', '0.2', '0.4', '0.4', '0.4', '0.3', '0', '0', '0', '0.2', '0', '0', '0', '0.6', '0\\n'], ['GANN-LARVAE', '0', '0.4', '0', '0.4', '0.9', '0.2', '0.1', '0.2', '0.1', '0.2', '0.1', '0.1', '0.4', '0', '0.6', '0.4', '0.4', '0.9', '0.4', '0.8\\n'], ['GANN-SPEED', '0.6', '0.5', '0.6', '0.8', '0.8', '0.4', '0.2', '0.1', '0.1', '0.2', '0', '0.6', '0.5', '0.2', '0.2', '0.1', '0.2', '0.3', '0', '0.2\\n'], ['DEMERSAL-GANNET', '0.3', '0.1', '0.1', '0.2', '0.2', '0.3', '0.5', '0.1', '0', '0', '0.1', '0.1', '0.4', '0.3', '0.3', '0.4', '0.7', '0.3', '0.3', '0.3\\n'], ['Chla-HP', '0.7', '0.3', '0.4', '0.5', '0.6', '0.5', '0.3', '0.3', '0.1', '0.1', '0', '0', '0.1', '0.2', '0.1', '0.3', '0.5', '0.5', '0.3', '0.6\\n'], ['HP-PELAGICS', '0.3', '0.5', '0.2', '0.7', '0.3', '0.3', '0.4', '0.9', '0.4', '0.1', '0', '0.1', '0.2', '0', '0.3', '0.3', '0', '0.2', '0.7', '0.2\\n'], ['HP-SST', '0.2', '0.1', '0.1', '0.1', '0.3', '0.1', '0.2', '0.2', '0.3', '0.5', '0.7', '0', '0', '0.2', '0.6', '0.1', '0.3', '0.6', '0.3', '0.9\\n'], ['A6-Grey seal', '0.3', '0.5', '0.1', '0.1', '0.2', '0.4', '0.3', '0', '0.3', '0.5', '0.2', '0.2', '0.2', '0.3', '0.2', '0.5', '0.3', '0.5', '0.2', '0.1\\n'], ['BT-Grey seal', '0.4', '0.6', '0.5', '0.5', '0.6', '0.3', '0.7', '0.1', '0', '0.2', '0.1', '0', '0.6', '0.2', '0', '0', '0.2', '0.1', '0.2', '0.1\\n'], ['Grey seal-LARVAE', '0', '0.3', '0.4', '0.5', '0.4', '0.2', '0.2', '0.1', '0.2', '0.2', '0.1', '0.5', '0.1', '0.3', '0.4', '0.1', '0.4', '0.4', '0.1', '0.2\\n'], ['Chla-Harbour seal', '0.4', '0.4', '0.3', '0.3', '0.5', '0.3', '0.6', '0.6', '0.7', '0.5', '0', '0', '0.3', '0', '0.4', '0.2', '0.2', '0', '0.4', '0\\n'], ['Harbour seal-W', '0.2', '0.2', '0.2', '0.1', '0', '0', '0.4', '0.2', '0.1', '0', '0.1', '0.4', '0.4', '0.6', '0.6', '0.8', '0.6', '0.4', '0.2', '0.4\\n'], ['Catch_pel-HV', '0.7', '1', '1', '1', '0.6', '0.8', '0.9', '0.9', '1', '0.9', '0.9', '0.6', '0.7', '0.5', '0', '0', '0.2', '0.3', '0', '0.3\\n'], ['Chla-HV', '1', '0.3', '0.1', '0.7', '0.4', '0.4', '0.2', '0.2', '0.2', '0.4', '0.5', '0.5', '0.6', '1', '1', '1', '0.9', '0.9', '1', '1\\n'], ['GANN-HV', '0.2', '0', '0.1', '0.2', '0', '0.5', '0.2', '0.2', '0.6', '0.7', '0.7', '0.6', '0.5', '0.7', '0.9', '0.9', '0.9', '1', '1', '1\\n'], ['GUILL-HV', '0.4', '0.1', '0.5', '0.1', '1', '1', '0.9', '0.6', '0.6', '0.5', '0.3', '0.4', '0.6', '0.4', '0.5', '0.2', '0.5', '0.7', '0', '0.3\\n'], ['DEMERSAL-HV', '0.4', '0.3', '0.4', '0.4', '0.4', '0.7', '0.7', '0.7', '0.9', '0.9', '0.9', '0.7', '0.7', '0.3', '0.3', '0.4', '0', '0', '0.1', '0.1']]\n"
      ]
    },
    {
      "cell_type": "code",
      "execution_count": null,
      "id": "a17bfc3f-f901-4438-a9d9-64118a29364e",
      "metadata": {
        "id": "a17bfc3f-f901-4438-a9d9-64118a29364e"
      },
      "outputs": [],
      "source": [
        "years=[\"RELATIONSHIPS\",2000,2001,2002,2003,2004,2005,2006,2007,2008,2009,2010,2011,2012,2013,2014,2015,2016,2017,2018,2019]"
      ]
    },
    {
      "cell_type": "code",
      "execution_count": null,
      "id": "7f4ef0d8-c128-4654-a5c5-f10200fa34b5",
      "metadata": {
        "id": "7f4ef0d8-c128-4654-a5c5-f10200fa34b5"
      },
      "outputs": [],
      "source": [
        "graph = nx.DiGraph()\n",
        "\n",
        "for d in data:\n",
        "    links = d[0].split(\"-\")\n",
        "    graph.add_edge(links[0],links[1])\n",
        "        \n",
        "pos = nx.spring_layout(graph)"
      ]
    },
    {
      "cell_type": "code",
      "execution_count": null,
      "id": "8ff84efc-d678-4943-b3f4-67a29ffdd736",
      "metadata": {
        "id": "8ff84efc-d678-4943-b3f4-67a29ffdd736"
      },
      "outputs": [],
      "source": [
        "def widths(year):\n",
        "    widths=[]\n",
        "    for d in data:\n",
        "        widths.append(float(d[year])*6)\n",
        "    return widths\n",
        "    "
      ]
    },
    {
      "cell_type": "code",
      "execution_count": null,
      "id": "a6fa5197-67a2-4778-b03d-b77bf683037d",
      "metadata": {
        "id": "a6fa5197-67a2-4778-b03d-b77bf683037d"
      },
      "outputs": [],
      "source": [
        "def draw(year):\n",
        "    clear_output(wait=True)\n",
        "    plt.rcParams['figure.figsize'] = [10, 10]\n",
        "    plt.title(\"year:\"+str(years[year]))\n",
        "    #nx.draw_networkx(graph,pos=pos,node_color=\"white\",node_size=400,width = widths(year))\n",
        "    nx.draw_networkx_edges(graph,pos=pos, alpha=0.3, width= widths(year),connectionstyle='arc3, rad = 0.3',arrowstyle='-|>', edge_color=\"#0000ff\")\n",
        "    nx.draw_networkx_nodes(graph,pos=pos, node_size=200, node_color=\"#ff0000\", alpha=0.2)\n",
        "    label_options = {\"ec\": \"k\", \"fc\": \"white\", \"alpha\": 0.2}\n",
        "    nx.draw_networkx_labels(graph,pos=pos, font_size=14, bbox=label_options)\n",
        "    plt.show()"
      ]
    },
    {
      "cell_type": "code",
      "execution_count": null,
      "id": "6ef2717c-ba28-4416-9d15-8cdb55bc2fc2",
      "metadata": {
        "id": "6ef2717c-ba28-4416-9d15-8cdb55bc2fc2",
        "outputId": "51a441ba-c603-42cc-a5f5-d037a05e495b",
        "colab": {
          "base_uri": "https://localhost:8080/",
          "height": 623,
          "referenced_widgets": [
            "3901faf80bee47dea1c611589e6e1548",
            "51bf372b0c224e4eb41f4240e89a5975",
            "72422a8c467f45f29410c0410989e485",
            "591e11291458453091e7565c52e67c5f",
            "801eaf4b19e246ce8c95ae617a7bf2d4",
            "fbeb19806213435589f3128f11f6f450",
            "7819006fbcdb40dbab44ed54403d42b1",
            "e4364693b0de495ba69920fcd9441c02",
            "46c0cf55e3fa4f73ba697798334317a4",
            "9390ad5c0e71455e935ad562f18bcc6f",
            "e53dcb5085134a62a5484140aac8cfeb",
            "8400a5aefe98419d8b2af784b82d899b"
          ]
        }
      },
      "outputs": [
        {
          "output_type": "display_data",
          "data": {
            "application/vnd.jupyter.widget-view+json": {
              "model_id": "3901faf80bee47dea1c611589e6e1548",
              "version_minor": 0,
              "version_major": 2
            },
            "text/plain": [
              "VBox(children=(HBox(children=(Button(description='Back  ', style=ButtonStyle()), Button(description='Foward', …"
            ]
          },
          "metadata": {}
        }
      ],
      "source": [
        "year=1\n",
        "def on_button_foward_clicked(_):\n",
        "    global year\n",
        "    with out:\n",
        "        draw(year)\n",
        "        if year<len(years)-1:\n",
        "            year+=1\n",
        "            \n",
        "def on_button_back_clicked(_):\n",
        "    global year\n",
        "    with out:\n",
        "        draw(year)\n",
        "        if year>2:\n",
        "            year-=1\n",
        "\n",
        "button_foward = widgets.Button(description='Foward')\n",
        "button_back = widgets.Button(description='Back  ')\n",
        "\n",
        "radio = widgets.RadioButtons(\n",
        "    options=['Grid', 'Circle', 'Watts'],\n",
        "    description='Layout:',\n",
        "    disabled=False\n",
        ")\n",
        "out = widgets.Output()\n",
        "\n",
        "\n",
        "buttons = widgets.HBox(\n",
        "[button_back,button_foward])\n",
        "button_foward.on_click(on_button_foward_clicked)\n",
        "button_back.on_click(on_button_back_clicked)\n",
        "widgets.VBox([buttons,out])\n",
        "\n"
      ]
    },
    {
      "cell_type": "code",
      "execution_count": null,
      "id": "b58000bb-3eff-4cbc-8a9e-1a0ce63112ea",
      "metadata": {
        "id": "b58000bb-3eff-4cbc-8a9e-1a0ce63112ea"
      },
      "outputs": [],
      "source": [
        ""
      ]
    }
  ],
  "metadata": {
    "kernelspec": {
      "display_name": "Python 3 (ipykernel)",
      "language": "python",
      "name": "python3"
    },
    "language_info": {
      "codemirror_mode": {
        "name": "ipython",
        "version": 3
      },
      "file_extension": ".py",
      "mimetype": "text/x-python",
      "name": "python",
      "nbconvert_exporter": "python",
      "pygments_lexer": "ipython3",
      "version": "3.9.2"
    },
    "colab": {
      "name": "NorthSeaRelationships.ipynb",
      "provenance": [],
      "collapsed_sections": []
    },
    "widgets": {
      "application/vnd.jupyter.widget-state+json": {
        "3901faf80bee47dea1c611589e6e1548": {
          "model_module": "@jupyter-widgets/controls",
          "model_name": "VBoxModel",
          "model_module_version": "1.5.0",
          "state": {
            "_view_name": "VBoxView",
            "_dom_classes": [],
            "_model_name": "VBoxModel",
            "_view_module": "@jupyter-widgets/controls",
            "_model_module_version": "1.5.0",
            "_view_count": null,
            "_view_module_version": "1.5.0",
            "box_style": "",
            "layout": "IPY_MODEL_51bf372b0c224e4eb41f4240e89a5975",
            "_model_module": "@jupyter-widgets/controls",
            "children": [
              "IPY_MODEL_72422a8c467f45f29410c0410989e485",
              "IPY_MODEL_591e11291458453091e7565c52e67c5f"
            ]
          }
        },
        "51bf372b0c224e4eb41f4240e89a5975": {
          "model_module": "@jupyter-widgets/base",
          "model_name": "LayoutModel",
          "model_module_version": "1.2.0",
          "state": {
            "_view_name": "LayoutView",
            "grid_template_rows": null,
            "right": null,
            "justify_content": null,
            "_view_module": "@jupyter-widgets/base",
            "overflow": null,
            "_model_module_version": "1.2.0",
            "_view_count": null,
            "flex_flow": null,
            "width": null,
            "min_width": null,
            "border": null,
            "align_items": null,
            "bottom": null,
            "_model_module": "@jupyter-widgets/base",
            "top": null,
            "grid_column": null,
            "overflow_y": null,
            "overflow_x": null,
            "grid_auto_flow": null,
            "grid_area": null,
            "grid_template_columns": null,
            "flex": null,
            "_model_name": "LayoutModel",
            "justify_items": null,
            "grid_row": null,
            "max_height": null,
            "align_content": null,
            "visibility": null,
            "align_self": null,
            "height": null,
            "min_height": null,
            "padding": null,
            "grid_auto_rows": null,
            "grid_gap": null,
            "max_width": null,
            "order": null,
            "_view_module_version": "1.2.0",
            "grid_template_areas": null,
            "object_position": null,
            "object_fit": null,
            "grid_auto_columns": null,
            "margin": null,
            "display": null,
            "left": null
          }
        },
        "72422a8c467f45f29410c0410989e485": {
          "model_module": "@jupyter-widgets/controls",
          "model_name": "HBoxModel",
          "model_module_version": "1.5.0",
          "state": {
            "_view_name": "HBoxView",
            "_dom_classes": [],
            "_model_name": "HBoxModel",
            "_view_module": "@jupyter-widgets/controls",
            "_model_module_version": "1.5.0",
            "_view_count": null,
            "_view_module_version": "1.5.0",
            "box_style": "",
            "layout": "IPY_MODEL_801eaf4b19e246ce8c95ae617a7bf2d4",
            "_model_module": "@jupyter-widgets/controls",
            "children": [
              "IPY_MODEL_fbeb19806213435589f3128f11f6f450",
              "IPY_MODEL_7819006fbcdb40dbab44ed54403d42b1"
            ]
          }
        },
        "591e11291458453091e7565c52e67c5f": {
          "model_module": "@jupyter-widgets/output",
          "model_name": "OutputModel",
          "model_module_version": "1.0.0",
          "state": {
            "_view_name": "OutputView",
            "msg_id": "",
            "_dom_classes": [],
            "_model_name": "OutputModel",
            "outputs": [
              {
                "output_type": "display_data",
                "data": {
                  "image/png": "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\n",
                  "text/plain": "<Figure size 720x720 with 1 Axes>"
                },
                "metadata": {}
              }
            ],
            "_view_module": "@jupyter-widgets/output",
            "_model_module_version": "1.0.0",
            "_view_count": null,
            "_view_module_version": "1.0.0",
            "layout": "IPY_MODEL_8400a5aefe98419d8b2af784b82d899b",
            "_model_module": "@jupyter-widgets/output"
          }
        },
        "801eaf4b19e246ce8c95ae617a7bf2d4": {
          "model_module": "@jupyter-widgets/base",
          "model_name": "LayoutModel",
          "model_module_version": "1.2.0",
          "state": {
            "_view_name": "LayoutView",
            "grid_template_rows": null,
            "right": null,
            "justify_content": null,
            "_view_module": "@jupyter-widgets/base",
            "overflow": null,
            "_model_module_version": "1.2.0",
            "_view_count": null,
            "flex_flow": null,
            "width": null,
            "min_width": null,
            "border": null,
            "align_items": null,
            "bottom": null,
            "_model_module": "@jupyter-widgets/base",
            "top": null,
            "grid_column": null,
            "overflow_y": null,
            "overflow_x": null,
            "grid_auto_flow": null,
            "grid_area": null,
            "grid_template_columns": null,
            "flex": null,
            "_model_name": "LayoutModel",
            "justify_items": null,
            "grid_row": null,
            "max_height": null,
            "align_content": null,
            "visibility": null,
            "align_self": null,
            "height": null,
            "min_height": null,
            "padding": null,
            "grid_auto_rows": null,
            "grid_gap": null,
            "max_width": null,
            "order": null,
            "_view_module_version": "1.2.0",
            "grid_template_areas": null,
            "object_position": null,
            "object_fit": null,
            "grid_auto_columns": null,
            "margin": null,
            "display": null,
            "left": null
          }
        },
        "fbeb19806213435589f3128f11f6f450": {
          "model_module": "@jupyter-widgets/controls",
          "model_name": "ButtonModel",
          "model_module_version": "1.5.0",
          "state": {
            "_view_name": "ButtonView",
            "style": "IPY_MODEL_e4364693b0de495ba69920fcd9441c02",
            "_dom_classes": [],
            "description": "Back  ",
            "_model_name": "ButtonModel",
            "button_style": "",
            "_view_module": "@jupyter-widgets/controls",
            "_model_module_version": "1.5.0",
            "tooltip": "",
            "_view_count": null,
            "disabled": false,
            "_view_module_version": "1.5.0",
            "layout": "IPY_MODEL_46c0cf55e3fa4f73ba697798334317a4",
            "_model_module": "@jupyter-widgets/controls",
            "icon": ""
          }
        },
        "7819006fbcdb40dbab44ed54403d42b1": {
          "model_module": "@jupyter-widgets/controls",
          "model_name": "ButtonModel",
          "model_module_version": "1.5.0",
          "state": {
            "_view_name": "ButtonView",
            "style": "IPY_MODEL_9390ad5c0e71455e935ad562f18bcc6f",
            "_dom_classes": [],
            "description": "Foward",
            "_model_name": "ButtonModel",
            "button_style": "",
            "_view_module": "@jupyter-widgets/controls",
            "_model_module_version": "1.5.0",
            "tooltip": "",
            "_view_count": null,
            "disabled": false,
            "_view_module_version": "1.5.0",
            "layout": "IPY_MODEL_e53dcb5085134a62a5484140aac8cfeb",
            "_model_module": "@jupyter-widgets/controls",
            "icon": ""
          }
        },
        "e4364693b0de495ba69920fcd9441c02": {
          "model_module": "@jupyter-widgets/controls",
          "model_name": "ButtonStyleModel",
          "model_module_version": "1.5.0",
          "state": {
            "_view_name": "StyleView",
            "_model_name": "ButtonStyleModel",
            "_view_module": "@jupyter-widgets/base",
            "_model_module_version": "1.5.0",
            "_view_count": null,
            "button_color": null,
            "font_weight": "",
            "_view_module_version": "1.2.0",
            "_model_module": "@jupyter-widgets/controls"
          }
        },
        "46c0cf55e3fa4f73ba697798334317a4": {
          "model_module": "@jupyter-widgets/base",
          "model_name": "LayoutModel",
          "model_module_version": "1.2.0",
          "state": {
            "_view_name": "LayoutView",
            "grid_template_rows": null,
            "right": null,
            "justify_content": null,
            "_view_module": "@jupyter-widgets/base",
            "overflow": null,
            "_model_module_version": "1.2.0",
            "_view_count": null,
            "flex_flow": null,
            "width": null,
            "min_width": null,
            "border": null,
            "align_items": null,
            "bottom": null,
            "_model_module": "@jupyter-widgets/base",
            "top": null,
            "grid_column": null,
            "overflow_y": null,
            "overflow_x": null,
            "grid_auto_flow": null,
            "grid_area": null,
            "grid_template_columns": null,
            "flex": null,
            "_model_name": "LayoutModel",
            "justify_items": null,
            "grid_row": null,
            "max_height": null,
            "align_content": null,
            "visibility": null,
            "align_self": null,
            "height": null,
            "min_height": null,
            "padding": null,
            "grid_auto_rows": null,
            "grid_gap": null,
            "max_width": null,
            "order": null,
            "_view_module_version": "1.2.0",
            "grid_template_areas": null,
            "object_position": null,
            "object_fit": null,
            "grid_auto_columns": null,
            "margin": null,
            "display": null,
            "left": null
          }
        },
        "9390ad5c0e71455e935ad562f18bcc6f": {
          "model_module": "@jupyter-widgets/controls",
          "model_name": "ButtonStyleModel",
          "model_module_version": "1.5.0",
          "state": {
            "_view_name": "StyleView",
            "_model_name": "ButtonStyleModel",
            "_view_module": "@jupyter-widgets/base",
            "_model_module_version": "1.5.0",
            "_view_count": null,
            "button_color": null,
            "font_weight": "",
            "_view_module_version": "1.2.0",
            "_model_module": "@jupyter-widgets/controls"
          }
        },
        "e53dcb5085134a62a5484140aac8cfeb": {
          "model_module": "@jupyter-widgets/base",
          "model_name": "LayoutModel",
          "model_module_version": "1.2.0",
          "state": {
            "_view_name": "LayoutView",
            "grid_template_rows": null,
            "right": null,
            "justify_content": null,
            "_view_module": "@jupyter-widgets/base",
            "overflow": null,
            "_model_module_version": "1.2.0",
            "_view_count": null,
            "flex_flow": null,
            "width": null,
            "min_width": null,
            "border": null,
            "align_items": null,
            "bottom": null,
            "_model_module": "@jupyter-widgets/base",
            "top": null,
            "grid_column": null,
            "overflow_y": null,
            "overflow_x": null,
            "grid_auto_flow": null,
            "grid_area": null,
            "grid_template_columns": null,
            "flex": null,
            "_model_name": "LayoutModel",
            "justify_items": null,
            "grid_row": null,
            "max_height": null,
            "align_content": null,
            "visibility": null,
            "align_self": null,
            "height": null,
            "min_height": null,
            "padding": null,
            "grid_auto_rows": null,
            "grid_gap": null,
            "max_width": null,
            "order": null,
            "_view_module_version": "1.2.0",
            "grid_template_areas": null,
            "object_position": null,
            "object_fit": null,
            "grid_auto_columns": null,
            "margin": null,
            "display": null,
            "left": null
          }
        },
        "8400a5aefe98419d8b2af784b82d899b": {
          "model_module": "@jupyter-widgets/base",
          "model_name": "LayoutModel",
          "model_module_version": "1.2.0",
          "state": {
            "_view_name": "LayoutView",
            "grid_template_rows": null,
            "right": null,
            "justify_content": null,
            "_view_module": "@jupyter-widgets/base",
            "overflow": null,
            "_model_module_version": "1.2.0",
            "_view_count": null,
            "flex_flow": null,
            "width": null,
            "min_width": null,
            "border": null,
            "align_items": null,
            "bottom": null,
            "_model_module": "@jupyter-widgets/base",
            "top": null,
            "grid_column": null,
            "overflow_y": null,
            "overflow_x": null,
            "grid_auto_flow": null,
            "grid_area": null,
            "grid_template_columns": null,
            "flex": null,
            "_model_name": "LayoutModel",
            "justify_items": null,
            "grid_row": null,
            "max_height": null,
            "align_content": null,
            "visibility": null,
            "align_self": null,
            "height": null,
            "min_height": null,
            "padding": null,
            "grid_auto_rows": null,
            "grid_gap": null,
            "max_width": null,
            "order": null,
            "_view_module_version": "1.2.0",
            "grid_template_areas": null,
            "object_position": null,
            "object_fit": null,
            "grid_auto_columns": null,
            "margin": null,
            "display": null,
            "left": null
          }
        }
      }
    }
  },
  "nbformat": 4,
  "nbformat_minor": 5
}